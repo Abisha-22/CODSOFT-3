{
  "nbformat": 4,
  "nbformat_minor": 0,
  "metadata": {
    "colab": {
      "provenance": [],
      "authorship_tag": "ABX9TyOQuftF5F9CTZWbMcHturJX",
      "include_colab_link": true
    },
    "kernelspec": {
      "name": "python3",
      "display_name": "Python 3"
    },
    "language_info": {
      "name": "python"
    }
  },
  "cells": [
    {
      "cell_type": "markdown",
      "metadata": {
        "id": "view-in-github",
        "colab_type": "text"
      },
      "source": [
        "<a href=\"https://colab.research.google.com/github/Abisha-22/CODSOFT-3/blob/main/Untitled14.ipynb\" target=\"_parent\"><img src=\"https://colab.research.google.com/assets/colab-badge.svg\" alt=\"Open In Colab\"/></a>"
      ]
    },
    {
      "cell_type": "code",
      "execution_count": 1,
      "metadata": {
        "colab": {
          "base_uri": "https://localhost:8080/"
        },
        "id": "-YzkBGfabCOe",
        "outputId": "a59f82e5-bb3d-4700-a90e-b7390c84c4f3"
      },
      "outputs": [
        {
          "output_type": "stream",
          "name": "stdout",
          "text": [
            "Recommendations for user 0 :\n",
            "Item: 2 Score: 5.0\n",
            "Item: 2 Score: 5.0\n"
          ]
        }
      ],
      "source": [
        "import numpy as np\n",
        "\n",
        "class CollaborativeFiltering:\n",
        "    def __init__(self, ratings):\n",
        "        self.ratings = ratings\n",
        "        self.num_users, self.num_items = ratings.shape\n",
        "\n",
        "    def similarity(self, user1, user2):\n",
        "        # Calculate cosine similarity between two users\n",
        "        rated_by_both = np.logical_and(self.ratings[user1] != 0, self.ratings[user2] != 0)\n",
        "        if np.sum(rated_by_both) == 0:\n",
        "            return 0\n",
        "        else:\n",
        "            return np.dot(self.ratings[user1, rated_by_both], self.ratings[user2, rated_by_both]) / \\\n",
        "                   (np.linalg.norm(self.ratings[user1, rated_by_both]) * np.linalg.norm(self.ratings[user2, rated_by_both]))\n",
        "\n",
        "    def recommend(self, user, num_recommendations=5):\n",
        "        # Find similar users\n",
        "        similarities = [self.similarity(user, other_user) for other_user in range(self.num_users)]\n",
        "        similar_users = np.argsort(similarities)[::-1]\n",
        "\n",
        "        # Generate recommendations\n",
        "        recommendations = []\n",
        "        for item in range(self.num_items):\n",
        "            if self.ratings[user, item] == 0:\n",
        "                rating = 0\n",
        "                sim_sum = 0\n",
        "                for other_user in similar_users:\n",
        "                    if self.ratings[other_user, item] != 0:\n",
        "                        rating += similarities[other_user] * self.ratings[other_user, item]\n",
        "                        sim_sum += np.abs(similarities[other_user])\n",
        "                        if sim_sum != 0:\n",
        "                            recommendations.append((item, rating / sim_sum))\n",
        "                recommendations.sort(key=lambda x: x[1], reverse=True)\n",
        "                recommendations = recommendations[:num_recommendations]\n",
        "        return recommendations\n",
        "\n",
        "# Example usage\n",
        "ratings = np.array([[5, 3, 0, 1],\n",
        "                    [4, 0, 0, 1],\n",
        "                    [1, 1, 0, 5],\n",
        "                    [0, 1, 5, 4],\n",
        "                    [0, 1, 5, 0]])\n",
        "cf = CollaborativeFiltering(ratings)\n",
        "user = 0\n",
        "recommendations = cf.recommend(user)\n",
        "print(\"Recommendations for user\", user, \":\")\n",
        "for item, score in recommendations:\n",
        "    print(\"Item:\", item, \"Score:\", score)"
      ]
    }
  ]
}